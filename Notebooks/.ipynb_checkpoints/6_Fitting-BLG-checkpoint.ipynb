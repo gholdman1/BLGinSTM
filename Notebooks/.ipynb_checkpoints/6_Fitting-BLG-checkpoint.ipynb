{
 "cells": [
  {
   "cell_type": "code",
   "execution_count": 1,
   "metadata": {},
   "outputs": [],
   "source": [
    "# This cell allows then notebook to discover the package TunnelingExperiment\n",
    "# Only run this cell once. If run a second time, hit \"Kernel->Reset\" to restart\n",
    "# the notebook, then run once.\n",
    "\n",
    "import os\n",
    "moduledir = os.path.dirname( os.getcwd() )\n",
    "\n",
    "os.chdir(moduledir) # Move up one directory so we can import modules\n",
    "\n",
    "#Import libraries\n",
    "%matplotlib inline\n",
    "from ipywidgets import interactive,fixed\n",
    "import matplotlib.pyplot as plt\n",
    "import matplotlib.cm as cm\n",
    "import numpy as np\n"
   ]
  },
  {
   "cell_type": "markdown",
   "metadata": {},
   "source": [
    "# Fitting"
   ]
  },
  {
   "cell_type": "markdown",
   "metadata": {},
   "source": [
    "Example of pulling data to make an interactive plot of an image"
   ]
  },
  {
   "cell_type": "code",
   "execution_count": 2,
   "metadata": {},
   "outputs": [],
   "source": [
    "data_path = 'BLG-CHTC/raw-data'\n",
    "\n",
    "# Change to VT and VB\n",
    "VT = np.load( os.path.join(data_path,'VT.npy') )\n",
    "VB = np.load( os.path.join(data_path,'VB.npy') )\n",
    "\n",
    "# Change to d1 and Wtip\n",
    "heights = np.load( os.path.join(data_path,'height.npy') )\n",
    "Wtips = np.load( os.path.join(data_path,'Wtip.npy') )\n",
    "\n",
    "# Import Current\n",
    "Current = np.load( os.path.join(data_path, 'Current.npy') )"
   ]
  },
  {
   "cell_type": "code",
   "execution_count": 3,
   "metadata": {},
   "outputs": [],
   "source": [
    "## Temporary cell to show how to plot the background as well.\n",
    "def image_plot(im,kx,kxrange,ky,kyrange,alpha):\n",
    "    fig = plt.figure(2,frameon=False)\n",
    "    xindex = (np.abs(kx - kxrange)).argmin()\n",
    "    yindex = (np.abs(ky - kyrange)).argmin()\n",
    "    \n",
    "    data = plt.imshow(image[10][10],cmap=cm.gray,origin='lower',\n",
    "                     aspect='auto',alpha=1-alpha,extent=(domain[0],domain[-1],domain[0],domain[-1]))\n",
    "    \n",
    "    fit = plt.imshow(image[xindex][yindex],cmap=cm.RdYlGn,origin='lower',\n",
    "                aspect='auto',alpha=alpha,extent=(domain[0],domain[-1],domain[0],domain[-1]))\n",
    "    plt.show()"
   ]
  },
  {
   "cell_type": "code",
   "execution_count": 3,
   "metadata": {},
   "outputs": [],
   "source": [
    "def plot_dIdV(I,VT,VB,d1,d1_range,Wtip,Wtip_range,alpha,norm=False):\n",
    "    \"\"\"\n",
    "    Plots a color map of dI/dV spectrum (VT vs VB).\n",
    "\n",
    "    Parameters\n",
    "    ----------\n",
    "    show:       Boolean; Select \"True\" to show the image. Select \"False\" (default)\n",
    "                to simply generate it. Useful if you would just like to save the image.\n",
    "\n",
    "    save:       Boolean; Select \"True\" to save to (file location)\n",
    "\n",
    "    norm:       Boolean; Select \"True\" to normalize and plot (dI/dV)/(I/VT) spectrum.\n",
    "    \"\"\"\n",
    "    d1_index = (np.abs(d1 - d1_range)).argmin()\n",
    "    Wtip_index = (np.abs(Wtip - Wtip_range)).argmin()  \n",
    "    \n",
    "    dIdV = np.gradient(I[d1_index,Wtip_index,:,:],axis=0) # dI/dV\n",
    "\n",
    "    if norm == True:\n",
    "        IV = I / VT[:,np.newaxis] # I/V\n",
    "        dIdV = dIdV / IV\n",
    "\n",
    "    fig, ax = plt.subplots(figsize=(7,6),frameon=False)\n",
    "\n",
    "    dIdV_plot = plt.imshow(dIdV,cmap=cm.RdYlGn,origin='lower',\n",
    "                            aspect='auto',alpha=alpha,extent=(VB[0],VB[-1],1e3*VT[0],1e3*VT[-1]))\n",
    "    fig.suptitle('$dI/dV$\\n Tip Height ={} nm Work Function = {} meV'.format(d1_range[d1_index],Wtip_range[Wtip_index]))\n",
    "    cbar = fig.colorbar(dIdV_plot,label='$dI/dV$ (S)')\n",
    "    ax.set_xlabel('Gate Voltage (V)')\n",
    "    ax.set_ylabel('Tip Voltage (mV)')\n",
    "\n",
    "    plt.show()"
   ]
  },
  {
   "cell_type": "code",
   "execution_count": 4,
   "metadata": {
    "scrolled": false
   },
   "outputs": [
    {
     "data": {
      "application/vnd.jupyter.widget-view+json": {
       "model_id": "c570e41e98aa4f6c827ace4ead15a68b",
       "version_major": 2,
       "version_minor": 0
      },
      "text/plain": [
       "interactive(children=(FloatSlider(value=14.0, description='d1', max=26.0, min=2.0), FloatSlider(value=4900.0, …"
      ]
     },
     "metadata": {},
     "output_type": "display_data"
    }
   ],
   "source": [
    "interactive_plot = interactive(plot_dIdV, I=fixed(Current), VT=fixed(VT), VB=fixed(VB),\n",
    "                               d1=(heights[0], heights[-1]),d1_range=fixed(heights),\n",
    "                               Wtip=(Wtips[0],Wtips[-1]),Wtip_range=fixed(Wtips),\n",
    "                              alpha=(0.,1.))\n",
    "output = interactive_plot.children[-1]\n",
    "output.layout.height = '300px'\n",
    "interactive_plot"
   ]
  },
  {
   "cell_type": "markdown",
   "metadata": {},
   "source": [
    "* Tip workfunction > Sample workfunction\n",
    "* Tip attracts electrons, acts as negative gate. Opens a gap.\n",
    "* To close, offset the neImagine applying positive back gate voltage. To close gap, either apply a negative voltage. OR "
   ]
  }
 ],
 "metadata": {
  "kernelspec": {
   "display_name": "Python 3",
   "language": "python",
   "name": "python3"
  },
  "language_info": {
   "codemirror_mode": {
    "name": "ipython",
    "version": 3
   },
   "file_extension": ".py",
   "mimetype": "text/x-python",
   "name": "python",
   "nbconvert_exporter": "python",
   "pygments_lexer": "ipython3",
   "version": "3.7.0"
  }
 },
 "nbformat": 4,
 "nbformat_minor": 2
}
