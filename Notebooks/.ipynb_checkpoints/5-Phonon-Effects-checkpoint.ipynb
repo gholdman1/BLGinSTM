{
 "cells": [
  {
   "cell_type": "markdown",
   "metadata": {},
   "source": [
    "The correction to the $dI/dV$ spectrum due to inelastic tunneling effects is given [Brar 2010, eq. 2](https://link.aps.org/doi/10.1103/PhysRevLett.104.036805).\n",
    "\n",
    "$$ \\Delta\\frac{dI}{dV_T}(V_T) = \\sum_i\\frac{\\lambda_i}{\\sigma_i\\sqrt{2\\pi}}\\left|\n",
    "\\int_0^{eV_T}\\frac{dI}{dV_T'}(eV_T'-\\epsilon)\\exp{-(|\\epsilon|-\\hbar\\omega_i)^2/2\\sigma_i^2d\\epsilon}\n",
    "\\right|$$\n",
    "\n",
    "where $i$ indexes each effect. In reality, we only need to consider the most prominent phonon which has parameters\n",
    "\n",
    "$\\hbar\\omega_1=63$meV, $\\lambda_1 = 10$, and $\\sigma_1=17$meV\n",
    "\n",
    "So in the end, we will really observe $dI/dV_T\\to dI/dV_T+\\Delta dI/dV_T$."
   ]
  }
 ],
 "metadata": {
  "kernelspec": {
   "display_name": "Python 3",
   "language": "python",
   "name": "python3"
  },
  "language_info": {
   "codemirror_mode": {
    "name": "ipython",
    "version": 3
   },
   "file_extension": ".py",
   "mimetype": "text/x-python",
   "name": "python",
   "nbconvert_exporter": "python",
   "pygments_lexer": "ipython3",
   "version": "3.7.0"
  }
 },
 "nbformat": 4,
 "nbformat_minor": 2
}
